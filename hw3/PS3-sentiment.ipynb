{
 "cells": [
  {
   "cell_type": "code",
   "execution_count": 1,
   "metadata": {
    "collapsed": true
   },
   "outputs": [],
   "source": [
    "from __future__ import absolute_import\n",
    "from __future__ import division\n",
    "from __future__ import print_function\n",
    "\n",
    "from utils import *\n",
    "\n",
    "import numpy as np\n",
    "import cvxopt\n",
    "import pandas as pd \n",
    "\n",
    "cvxopt.solvers.options['show_progress'] = False\n",
    "\n",
    "%matplotlib inline"
   ]
  },
  {
   "cell_type": "code",
   "execution_count": 2,
   "metadata": {},
   "outputs": [
    {
     "name": "stdout",
     "output_type": "stream",
     "text": [
      "Feature size:  1464\n"
     ]
    }
   ],
   "source": [
    "\"\"\"\n",
    "Get the preprocessed data:\n",
    "X and y are dicts, has keys train, val and test. keys gives you what word (or pair of words) each dimension corresponds to.\n",
    "\n",
    "You can also get bigram features if you call preprocess(bigram = True)`\n",
    "Another optional argument mincount specifies the frequency cutoff for inclusion of a word/bigram in the\n",
    "dictionary.\n",
    "\n",
    "\"\"\"\n",
    "\n",
    "X, y, keys = preprocess()"
   ]
  },
  {
   "cell_type": "code",
   "execution_count": 3,
   "metadata": {
    "collapsed": true
   },
   "outputs": [],
   "source": [
    "class Kernel(object):\n",
    "    \"\"\"\n",
    "    A class containing all kinds of kernels.\n",
    "    Note: the kernel should work for both input (Matrix, vector) and (vector, vector)\n",
    "    \"\"\"\n",
    "    @staticmethod\n",
    "    def linear():\n",
    "        def f(x, y):\n",
    "            return np.dot(x, y)\n",
    "        return f\n",
    "\n",
    "    @staticmethod\n",
    "    def gaussian(gamma):  # we use the commonly used name, although it's not really a Gaussian\n",
    "        def f(x, y):\n",
    "            exponent = - gamma * np.linalg.norm((x-y).transpose(), 2, 0) ** 2\n",
    "            return np.exp(exponent)\n",
    "        return f\n",
    "\n",
    "    @staticmethod\n",
    "    def _poly(dimension, offset):\n",
    "        def f(x, y):\n",
    "            return (offset + np.dot(x, y)) ** dimension\n",
    "        return f\n",
    "\n",
    "    @staticmethod\n",
    "    def inhomogenous_polynomial(dimension):\n",
    "        return Kernel._poly(dimension=dimension, offset=1.0)\n",
    "\n",
    "    @staticmethod\n",
    "    def homogenous_polynomial(dimension):\n",
    "        return Kernel._poly(dimension=dimension, offset=0.0)\n",
    "\n",
    "    @staticmethod\n",
    "    def hyperbolic_tangent(kappa, c):\n",
    "        def f(x, y):\n",
    "            return np.tanh(kappa * np.dot(x, y) + c)\n",
    "        return f"
   ]
  },
  {
   "cell_type": "code",
   "execution_count": 18,
   "metadata": {
    "collapsed": true
   },
   "outputs": [],
   "source": [
    "class SVM(object):\n",
    "    def __init__(self, kernel, c):\n",
    "        \"\"\"\n",
    "        Build a SVM given kernel function and C\n",
    "\n",
    "        Parameters\n",
    "        ----------\n",
    "        kernel : function\n",
    "            a function takes input (Matrix, vector) or (vector, vector)\n",
    "        c : a scalar\n",
    "            balance term\n",
    "\n",
    "        Returns\n",
    "        -------\n",
    "        \"\"\"\n",
    "        self._kernel = kernel\n",
    "        self._c = c\n",
    "\n",
    "    def fit(self, X, y):\n",
    "        \"\"\"\n",
    "        Fit the model given data X and ground truth label y\n",
    "\n",
    "        Parameters\n",
    "        ----------\n",
    "        X : 2D array\n",
    "            N x d data matrix (row per example)\n",
    "        y : 1D array\n",
    "            class label\n",
    "\n",
    "        Returns\n",
    "        -------\n",
    "        \"\"\"\n",
    "        # Solve the QP problem to get the multipliers\n",
    "        lagrange_multipliers = self._compute_multipliers(X, y)\n",
    "        # Get all the support vectors, support weights and bias\n",
    "        self._construct_predictor(X, y, lagrange_multipliers)\n",
    "    \n",
    "    def predict(self, X):\n",
    "        \"\"\"\n",
    "        Predict the label given data X\n",
    "\n",
    "        Parameters\n",
    "        ----------\n",
    "        X : 2D array\n",
    "            N x d data matrix (row per example)\n",
    "\n",
    "        Returns\n",
    "        -------\n",
    "        y : 1D array\n",
    "            predicted label\n",
    "        \"\"\"\n",
    "        \n",
    "        #self._bias=bias\n",
    "        #self._weights=support_multipliers\n",
    "        #self._support_vectors=support_vectors\n",
    "        #self._support_vector_labels=support_vector_labels\n",
    "        \n",
    "        result = np.full(X.shape[0], self._bias) # allocate\n",
    "        sims = [] #n x k \n",
    "        for i in range( X.shape[0] ): \n",
    "            x_i = np.squeeze(np.asarray( X[i, :] ) )\n",
    "            sims.append( self._kernel(self._support_vectors, x_i) )  \n",
    "        \n",
    "        score = np.dot( sims, self._weights * self._support_vector_labels ) \n",
    "        result += score\n",
    "        return np.sign(result)\n",
    "\n",
    "    def _kernel_matrix(self, X):\n",
    "        \"\"\"\n",
    "        Get the kernel matrix.\n",
    "\n",
    "        Parameters\n",
    "        ----------\n",
    "        X : 2D array\n",
    "            N x d data matrix (row per example)\n",
    "\n",
    "        Returns\n",
    "        -------\n",
    "        K : 2D array\n",
    "            N x N kernel matrix\n",
    "        \"\"\"\n",
    "        N, d = X.shape\n",
    "        K = np.zeros((N, N))\n",
    "        for i, x_i in enumerate(X):\n",
    "            for j, x_j in enumerate(X):\n",
    "                K[i, j] = self._kernel(x_i, x_j)\n",
    "        return K\n",
    "\n",
    "    def _construct_predictor(self, X, y, lagrange_multipliers):\n",
    "        \"\"\"\n",
    "        Given the data, label and the multipliers, extract the support vectors and calculate the bias\n",
    "\n",
    "        Parameters\n",
    "        ----------\n",
    "        X : 2D array\n",
    "            N x d data matrix (row per example)\n",
    "        y : 1D array\n",
    "            class label\n",
    "        lagrange_multipliers: 1D array\n",
    "            the solution of lagrange_multiplier\n",
    "\n",
    "        Fills in relevant variables: model bias and weights (alphas), and details of support vectors\n",
    "        \n",
    "        -------\n",
    "        \"\"\"\n",
    "        support_vector_indices = \\\n",
    "            lagrange_multipliers > 1e-5\n",
    "            \n",
    "        print(\"SV number: \", np.sum(support_vector_indices))\n",
    "\n",
    "        support_multipliers = lagrange_multipliers[support_vector_indices]\n",
    "        support_vectors = X[support_vector_indices]\n",
    "        support_vector_labels = y[support_vector_indices]\n",
    "\n",
    "        \"\"\"\n",
    "        Get the bias term (w_0)\n",
    "        \"\"\"\n",
    "        bias = 0 \n",
    "        ns = len(support_multipliers)\n",
    "        \n",
    "        actual_indices = np.arange(X.shape[0])[support_vector_indices]\n",
    "        for i in range(ns): \n",
    "            bias += support_vector_labels[i]\n",
    "            \n",
    "            #print( actual_indices[i] ) \n",
    "            #print( support_vectors)\n",
    "            k_sims = self._K[actual_indices[i], support_vector_indices]\n",
    "            m = support_multipliers * support_vector_labels * k_sims     \n",
    "            bias -= np.sum(np.sum(m))\n",
    "        bias = bias / ns\n",
    "        \n",
    "        self._bias=bias\n",
    "        self._weights=support_multipliers\n",
    "        self._support_vectors=support_vectors\n",
    "        self._support_vector_labels=support_vector_labels\n",
    "        self._support_vector_indices = support_vector_indices\n",
    "\n",
    "    def _compute_multipliers(self, X, y):\n",
    "        \"\"\"\n",
    "        Given the data, label, solve the QP program to get lagrange multiplier.\n",
    "\n",
    "        Parameters\n",
    "        ----------\n",
    "        X : 2D array\n",
    "            N x d data matrix (row per example)\n",
    "        y : 1D array\n",
    "            class label\n",
    "\n",
    "        Returns\n",
    "        lagrange_multipliers: 1D array\n",
    "        -------\n",
    "        \"\"\"\n",
    "        N, d = X.shape\n",
    "\n",
    "        K = self._kernel_matrix(X)\n",
    "        self._K = K \n",
    "        \"\"\"\n",
    "        The standard QP solver formulation:\n",
    "        min 1/2 x^T H x + f^T x\n",
    "        s.t.\n",
    "        Ax <=  a\n",
    "        Bx = b\n",
    "        \"\"\"\n",
    "        H = cvxopt.matrix( np.outer(y, y) * K ) #n x n   \n",
    "        f = cvxopt.matrix( [-1.0] * N ) #n x 1  \n",
    "\n",
    "        A = cvxopt.matrix( np.vstack([-np.identity(N), np.identity(N)])) \n",
    "        a = cvxopt.matrix([0.0] * N + [self._c] * N) # 2n x 1 \n",
    "        #print(a)\n",
    "        \n",
    "        B = cvxopt.matrix(y, (1, N))  \n",
    "        b = cvxopt.matrix(0.0)\n",
    "        \n",
    "        # call the QP solver\n",
    "        solution = cvxopt.solvers.qp(H, f, A, a, B, b)\n",
    "\n",
    "        # Lagrange multipliers (the unknown vector 'x' is our alphas)\n",
    "        return np.ravel(solution['x'])"
   ]
  },
  {
   "cell_type": "markdown",
   "metadata": {},
   "source": [
    "Test the trainer.\n",
    "The following code would generate data which the grounth truth split is x+y = 0.5."
   ]
  },
  {
   "cell_type": "code",
   "execution_count": 19,
   "metadata": {},
   "outputs": [
    {
     "name": "stdout",
     "output_type": "stream",
     "text": [
      "SV number:  8\n"
     ]
    },
    {
     "data": {
      "image/png": "[encoded data removed]",
      "text/plain": [
       "<matplotlib.figure.Figure at 0x7f5ce7ec00f0>"
      ]
     },
     "metadata": {},
     "output_type": "display_data"
    }
   ],
   "source": [
    "import pdb\n",
    "clf = SVM(Kernel.linear(), 100)\n",
    "test_linear_SVM(clf, 100)"
   ]
  },
  {
   "cell_type": "code",
   "execution_count": 20,
   "metadata": {},
   "outputs": [
    {
     "name": "stdout",
     "output_type": "stream",
     "text": [
      "SV number:  15\n"
     ]
    },
    {
     "data": {
      "image/png": "[encoded data removed]",
      "text/plain": [
       "<matplotlib.figure.Figure at 0x7f5ce7f18780>"
      ]
     },
     "metadata": {},
     "output_type": "display_data"
    }
   ],
   "source": [
    "clf = SVM(Kernel.gaussian(1), 100)\n",
    "test_rbf_SVM(clf, 100)"
   ]
  },
  {
   "cell_type": "markdown",
   "metadata": {},
   "source": [
    "If you think your code is correct, then we can move to the real problem. Below are some code examples; you will need to fill in some details, and extend these to any experiments you want to run."
   ]
  },
  {
   "cell_type": "code",
   "execution_count": 25,
   "metadata": {},
   "outputs": [
    {
     "name": "stdout",
     "output_type": "stream",
     "text": [
      "SV number:  1641\n",
      "C =  0.1\n",
      "Acc on train:  0.895855855856\n",
      "Acc on val:  0.732\n",
      "SV number:  1532\n",
      "C =  0.2\n",
      "Acc on train:  0.920720720721\n",
      "Acc on val:  0.726\n",
      "SV number:  1366\n",
      "C =  0.5\n",
      "Acc on train:  0.942342342342\n",
      "Acc on val:  0.718\n",
      "SV number:  1268\n",
      "C =  1\n",
      "Acc on train:  0.956036036036\n",
      "Acc on val:  0.724\n",
      "SV number:  1165\n",
      "C =  2\n",
      "Acc on train:  0.97045045045\n",
      "Acc on val:  0.746\n",
      "SV number:  1099\n",
      "C =  5\n",
      "Acc on train:  0.987387387387\n",
      "Acc on val:  0.722\n",
      "SV number:  1040\n",
      "C =  10\n",
      "Acc on train:  0.995315315315\n",
      "Acc on val:  0.71\n"
     ]
    }
   ],
   "source": [
    "lin_C = [0.1, 0.2, 0.5, 1, 2, 5, 10]\n",
    "lin_vals = [] \n",
    "for C in lin_C:\n",
    "    clf = SVM(Kernel.linear(), C)\n",
    "    clf.fit(X['train'], y['train'].astype('double'))\n",
    "    print(\"C = \", C)\n",
    "    y_hat = clf.predict(X['train'])\n",
    "    print(\"Acc on train: \", np.mean(y_hat == y['train']))\n",
    "    y_hat = clf.predict(X['val'])\n",
    "    \n",
    "    val_score = np.mean(y_hat == y['val'])\n",
    "    print(\"Acc on val: \", val_score)\n",
    "    lin_vals.append(val_score)\n",
    "    "
   ]
  },
  {
   "cell_type": "code",
   "execution_count": 30,
   "metadata": {
    "collapsed": true
   },
   "outputs": [],
   "source": [
    "cv_data_lin = {'C': lin_C, 'val_score': lin_vals}\n",
    "pd.to_pickle(cv_data_lin, 'cv_data_lin.pkl')"
   ]
  },
  {
   "cell_type": "markdown",
   "metadata": {},
   "source": [
    "Choose the best C, and predict the label for test data."
   ]
  },
  {
   "cell_type": "code",
   "execution_count": 36,
   "metadata": {},
   "outputs": [
    {
     "name": "stdout",
     "output_type": "stream",
     "text": [
      "SV number:  1165\n"
     ]
    }
   ],
   "source": [
    "C = lin_C[ np.argmax(lin_vals) ] \n",
    "clf = SVM(Kernel.linear(), C)\n",
    "clf.fit(X['train'], y['train'].astype('double'))\n",
    "y_hat = clf.predict(X['test'])\n",
    "save_submission('sub_linear.csv', y_hat)"
   ]
  },
  {
   "cell_type": "markdown",
   "metadata": {},
   "source": [
    "RBF (Gaussian) kernel SVM"
   ]
  },
  {
   "cell_type": "code",
   "execution_count": 35,
   "metadata": {},
   "outputs": [
    {
     "name": "stdout",
     "output_type": "stream",
     "text": [
      "SV number:  1926\n",
      "C =  1.8\n",
      "gamma =  0.02\n",
      "Acc on train:  0.905585585586\n",
      "Acc on val:  0.74\n",
      "SV number:  2142\n",
      "C =  1.8\n",
      "gamma =  0.05\n",
      "Acc on train:  0.972252252252\n",
      "Acc on val:  0.74\n",
      "SV number:  2396\n",
      "C =  1.8\n",
      "gamma =  0.1\n",
      "Acc on train:  0.994234234234\n",
      "Acc on val:  0.746\n",
      "SV number:  1922\n",
      "C =  2\n",
      "gamma =  0.02\n",
      "Acc on train:  0.911351351351\n",
      "Acc on val:  0.736\n",
      "SV number:  2141\n",
      "C =  2\n",
      "gamma =  0.05\n",
      "Acc on train:  0.978378378378\n",
      "Acc on val:  0.746\n",
      "SV number:  2396\n",
      "C =  2\n",
      "gamma =  0.1\n",
      "Acc on train:  0.995675675676\n",
      "Acc on val:  0.748\n",
      "SV number:  1884\n",
      "C =  2.2\n",
      "gamma =  0.02\n",
      "Acc on train:  0.916756756757\n",
      "Acc on val:  0.736\n",
      "SV number:  2140\n",
      "C =  2.2\n",
      "gamma =  0.05\n",
      "Acc on train:  0.980900900901\n",
      "Acc on val:  0.748\n",
      "SV number:  2406\n",
      "C =  2.2\n",
      "gamma =  0.1\n",
      "Acc on train:  0.996036036036\n",
      "Acc on val:  0.75\n"
     ]
    }
   ],
   "source": [
    "rbf_C = [1.8, 2, 2.2]\n",
    "gammas = [0.02, 0.05, 0.1]\n",
    "rbf_scores = [] \n",
    "\n",
    "for C in rbf_C:\n",
    "    for gamma in gammas:\n",
    "        clf = SVM(Kernel.gaussian(gamma), C)\n",
    "        clf.fit(X['train'], y['train'].astype('double'))\n",
    "        print(\"C = \", C)\n",
    "        print(\"gamma = \", gamma)\n",
    "        y_hat = clf.predict(X['train'])\n",
    "        print(\"Acc on train: \", np.mean(y_hat == y['train']))\n",
    "        y_hat = clf.predict(X['val'])\n",
    "        \n",
    "        val_score = np.mean(y_hat == y['val'])\n",
    "        print(\"Acc on val: \", val_score)\n",
    "        \n",
    "        rbf_scores.append({'C' : C, 'val_score' : val_score, 'gamma': gamma})\n",
    "        "
   ]
  },
  {
   "cell_type": "code",
   "execution_count": 37,
   "metadata": {
    "collapsed": true
   },
   "outputs": [],
   "source": [
    "pd.to_pickle(rbf_scores, 'cv_data_rbf_2.pkl')"
   ]
  },
  {
   "cell_type": "code",
   "execution_count": 47,
   "metadata": {},
   "outputs": [
    {
     "name": "stdout",
     "output_type": "stream",
     "text": [
      "SV number:  2406\n"
     ]
    }
   ],
   "source": [
    "df_scores = pd.DataFrame(rbf_scores)\n",
    "idxmax = np.argmax( df_scores.val_score )\n",
    "best_gamma = df_scores.gamma[idxmax]\n",
    "best_c = df_scores['C:'][idxmax]\n",
    "\n",
    "clf = SVM(Kernel.gaussian(best_gamma), best_c)\n",
    "clf.fit(X['train'], y['train'].astype('double'))\n",
    "y_hat = clf.predict(X['test'])\n",
    "save_submission('sub_rbf.csv', y_hat)\n"
   ]
  },
  {
   "cell_type": "markdown",
   "metadata": {},
   "source": [
    "Evaluate a range of values of C (regularization parameter) and the\n",
    "kernel-specific parameter(s) and discuss your findings – how do these\n",
    "values affect the performance of the classifier on training/validation\n",
    "data?\n",
    "\n",
    "As we increase C, we allow the lagrangian multiplier $\\alpha_i$ to achieve a higher value, so it become more likely that the weights of some support vectors will completely dwarf the weights off other support vectors. If C is large enough, the points within the margins or that are incorrectly classified will have a much larger weight. In short, we are overfitting to these points. So we'll continually have higher training performence as C increases, but evantually decreasing validation performance.  \n",
    "\n",
    "As we increase gamma (eg. reduce the sigma term in the gaussian), our kernel density will come closer to 0. Thus only the support vectors that are closest (euclidian distance) to the test vector will have a large similarity weight, until the point where only a the few support vectors from our training set (that are close to the $\\mathbf{x}$ actually influence the prediction. In effect, we are overfitting to these few support vectors closest to the test vector. So we'll continually have higher training performence as gamma increases, but evantually decreasing validation performance.     "
   ]
  },
  {
   "cell_type": "code",
   "execution_count": 48,
   "metadata": {},
   "outputs": [
    {
     "name": "stdout",
     "output_type": "stream",
     "text": [
      "SV number:  2407\n",
      "C =  2.1\n",
      "gamma =  0.1\n",
      "Acc on train:  0.995675675676\n",
      "Acc on val:  0.752\n",
      "SV number:  2623\n",
      "C =  2.1\n",
      "gamma =  0.2\n",
      "Acc on train:  0.998558558559\n",
      "Acc on val:  0.72\n",
      "SV number:  2722\n",
      "C =  2.1\n",
      "gamma =  0.3\n",
      "Acc on train:  1.0\n",
      "Acc on val:  0.686\n",
      "SV number:  2747\n",
      "C =  2.1\n",
      "gamma =  0.4\n",
      "Acc on train:  1.0\n",
      "Acc on val:  0.672\n"
     ]
    }
   ],
   "source": [
    "rbf_C = [2.1]\n",
    "gammas = [0.1, 0.2, 0.3, 0.4]\n",
    "rbf_scores = [] \n",
    "\n",
    "for C in rbf_C:\n",
    "    for gamma in gammas:\n",
    "        clf = SVM(Kernel.gaussian(gamma), C)\n",
    "        clf.fit(X['train'], y['train'].astype('double'))\n",
    "        print(\"C = \", C)\n",
    "        print(\"gamma = \", gamma)\n",
    "        y_hat = clf.predict(X['train'])\n",
    "        print(\"Acc on train: \", np.mean(y_hat == y['train']))\n",
    "        y_hat = clf.predict(X['val'])\n",
    "        \n",
    "        val_score = np.mean(y_hat == y['val'])\n",
    "        print(\"Acc on val: \", val_score)\n",
    "        \n",
    "        rbf_scores.append({'C' : C, 'val_score' : val_score, 'gamma': gamma})"
   ]
  }
 ],
 "metadata": {
  "kernelspec": {
   "display_name": "Python 3",
   "language": "python",
   "name": "python3"
  },
  "language_info": {
   "codemirror_mode": {
    "name": "ipython",
    "version": 3
   },
   "file_extension": ".py",
   "mimetype": "text/x-python",
   "name": "python",
   "nbconvert_exporter": "python",
   "pygments_lexer": "ipython3",
   "version": "3.6.2"
  }
 },
 "nbformat": 4,
 "nbformat_minor": 1
}
